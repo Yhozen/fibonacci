{
 "cells": [
  {
   "cell_type": "code",
   "execution_count": 16,
   "metadata": {},
   "outputs": [
    {
     "name": "stdout",
     "output_type": "stream",
     "text": [
      "1.61803398875\n"
     ]
    }
   ],
   "source": [
    "upper = 1+ 5**(1/2.0)\n",
    "phi = upper / 2.0\n",
    "print(phi)"
   ]
  },
  {
   "cell_type": "code",
   "execution_count": 17,
   "metadata": {},
   "outputs": [
    {
     "name": "stdout",
     "output_type": "stream",
     "text": [
      "1\n",
      "1\n",
      "2\n",
      "3\n",
      "5\n",
      "8\n",
      "13\n",
      "21\n",
      "34\n",
      "55\n",
      "89\n",
      "144\n",
      "233\n",
      "377\n",
      "610\n",
      "987\n",
      "1597\n",
      "2584\n",
      "4181\n",
      "6765\n",
      "10946\n"
     ]
    }
   ],
   "source": [
    "fibList = [1.0,1.0]\n",
    "for i in range(21):\n",
    "    fibList.append(fibList[i] + fibList[i+1])\n",
    "    print(int(fibList[i]))"
   ]
  },
  {
   "cell_type": "code",
   "execution_count": 18,
   "metadata": {},
   "outputs": [
    {
     "name": "stdout",
     "output_type": "stream",
     "text": [
      "aproximation:1.0 error: 0.61803398875\n",
      "aproximation:2.0 error: -0.38196601125\n",
      "aproximation:1.5 error: 0.11803398875\n",
      "aproximation:1.6666666666666667 error: -0.0486326779168\n",
      "aproximation:1.6 error: 0.0180339887499\n",
      "aproximation:1.625 error: -0.00696601125011\n",
      "aproximation:1.6153846153846154 error: 0.00264937336528\n",
      "aproximation:1.619047619047619 error: -0.00101363029772\n",
      "aproximation:1.6176470588235294 error: 0.000386929926365\n",
      "aproximation:1.6181818181818182 error: -0.000147829431923\n",
      "aproximation:1.6179775280898876 error: 5.64606600073e-05\n",
      "aproximation:1.6180555555555556 error: -2.15668056607e-05\n",
      "aproximation:1.6180257510729614 error: 8.23767693348e-06\n",
      "aproximation:1.6180371352785146 error: -3.14652861966e-06\n",
      "aproximation:1.618032786885246 error: 1.20186464891e-06\n",
      "aproximation:1.618034447821682 error: -4.59071787029e-07\n",
      "aproximation:1.6180338134001253 error: 1.75349769593e-07\n",
      "aproximation:1.618034055727554 error: -6.69776591966e-08\n",
      "aproximation:1.6180339631667064 error: 2.55831884566e-08\n",
      "aproximation:1.6180339985218033 error: -9.77190839357e-09\n",
      "aproximation:1.618033985017358 error: 3.73253694619e-09\n",
      "aproximation:1.6180339901755971 error: -1.42570222295e-09\n"
     ]
    }
   ],
   "source": [
    "errList = []\n",
    "for i in range(len(fibList)-1):\n",
    "    aprox = fibList[i+1]/fibList[i]\n",
    "    err = phi - aprox\n",
    "    errList.append(err)\n",
    "    print('aproximation:' + repr(aprox)+  ' error: '+ str(err))"
   ]
  },
  {
   "cell_type": "code",
   "execution_count": 19,
   "metadata": {},
   "outputs": [
    {
     "data": {
      "image/png": "[encoded data removed]",
      "text/plain": [
       "<matplotlib.figure.Figure at 0x10727a510>"
      ]
     },
     "metadata": {},
     "output_type": "display_data"
    }
   ],
   "source": [
    "import matplotlib.pyplot as plt\n",
    "plt.plot(errList)\n",
    "plt.ylabel('Error')\n",
    "plt.show()"
   ]
  },
  {
   "cell_type": "code",
   "execution_count": 20,
   "metadata": {},
   "outputs": [
    {
     "name": "stdout",
     "output_type": "stream",
     "text": [
      "123124\n",
      "9\n",
      "123133\n",
      "123142\n",
      "246275\n",
      "369417\n",
      "615692\n",
      "985109\n",
      "1600801\n",
      "2585910\n",
      "4186711\n",
      "6772621\n",
      "10959332\n",
      "17731953\n",
      "28691285\n",
      "46423238\n",
      "75114523\n",
      "121537761\n",
      "196652284\n",
      "318190045\n",
      "514842329\n"
     ]
    }
   ],
   "source": [
    "# Now let's use two random numbers like 123124 and 9\n",
    "fibList = [123124.0,9.0]\n",
    "for i in range(21):\n",
    "    fibList.append(fibList[i] + fibList[i+1])\n",
    "    print(int(fibList[i]))"
   ]
  },
  {
   "cell_type": "code",
   "execution_count": 21,
   "metadata": {},
   "outputs": [
    {
     "name": "stdout",
     "output_type": "stream",
     "text": [
      "aproximation:7.309704038205387e-05 error: 1.61796089171\n",
      "aproximation:13681.444444444445 error: -13679.8264105\n",
      "aproximation:1.0000730916975953 error: 0.617960897052\n",
      "aproximation:1.9999269136444104 error: -0.381892924895\n",
      "aproximation:1.5000182722566238 error: 0.118015716493\n",
      "aproximation:1.6666585457626477 error: -0.0486245570128\n",
      "aproximation:1.600002923539692 error: 0.0180310652102\n",
      "aproximation:1.6249988579943946 error: -0.0069648692445\n",
      "aproximation:1.6153850478604148 error: 0.00264894088948\n",
      "aproximation:1.619047453314307 error: -0.00101346456441\n",
      "aproximation:1.6176471220487871 error: 0.000386866701108\n",
      "aproximation:1.6181817940203653 error: -0.00014780527047\n",
      "aproximation:1.6179775373170555 error: 5.64514328394e-05\n",
      "aproximation:1.618055552030845 error: -2.15632809502e-05\n",
      "aproximation:1.6180257524192452 error: 8.23633064972e-06\n",
      "aproximation:1.6180371347642748 error: -3.1460143799e-06\n",
      "aproximation:1.6180327870816673 error: 1.20166822759e-06\n",
      "aproximation:1.6180344477466555 error: -4.58996760599e-07\n",
      "aproximation:1.6180338134287828 error: 1.75321112073e-07\n",
      "aproximation:1.618034055716608 error: -6.69667130637e-08\n",
      "aproximation:1.6180339631708875 error: 2.55790073567e-08\n",
      "aproximation:1.6180339985202064 error: -9.77031144878e-09\n"
     ]
    }
   ],
   "source": [
    "# this numbers do not like as good as fibonacci's one\n",
    "# but what about the error they make?\n",
    "errList = []\n",
    "for i in range(len(fibList)-1):\n",
    "    aprox = fibList[i+1]/fibList[i]\n",
    "    err = phi - aprox\n",
    "    errList.append(err)\n",
    "    print('aproximation:' + repr(aprox)+  ' error: '+ str(err))"
   ]
  },
  {
   "cell_type": "code",
   "execution_count": 22,
   "metadata": {},
   "outputs": [
    {
     "data": {
      "image/png": "[encoded data removed]",
      "text/plain": [
       "<matplotlib.figure.Figure at 0x10727a650>"
      ]
     },
     "metadata": {},
     "output_type": "display_data"
    }
   ],
   "source": [
    "plt.plot(errList)\n",
    "plt.ylabel('Error')\n",
    "plt.show()"
   ]
  },
  {
   "cell_type": "code",
   "execution_count": 25,
   "metadata": {},
   "outputs": [
    {
     "name": "stdout",
     "output_type": "stream",
     "text": [
      "0.61803398875\n",
      "1.0\n",
      "1.61803398875\n",
      "2.61803398875\n",
      "4.2360679775\n",
      "6.85410196625\n",
      "11.0901699437\n",
      "17.94427191\n",
      "29.0344418537\n",
      "46.9787137637\n",
      "76.0131556175\n",
      "122.991869381\n",
      "199.005024999\n",
      "321.99689438\n",
      "521.001919379\n",
      "842.998813759\n",
      "1364.00073314\n",
      "2206.9995469\n",
      "3571.00028003\n",
      "5777.99982693\n",
      "9349.00010696\n"
     ]
    }
   ],
   "source": [
    "# WTF? How do they converge so fast if they are so different? It's because the nature of recursive series\n",
    "# Let me you show you the best series of numbers\n",
    "fibList = [float(phi)-1.0, 1.0]\n",
    "for i in range(21):\n",
    "    fibList.append(fibList[i] + fibList[i+1])\n",
    "    print(fibList[i])"
   ]
  },
  {
   "cell_type": "code",
   "execution_count": 26,
   "metadata": {},
   "outputs": [
    {
     "data": {
      "image/png": "[encoded data removed]",
      "text/plain": [
       "<matplotlib.figure.Figure at 0x1072d75d0>"
      ]
     },
     "metadata": {},
     "output_type": "display_data"
    }
   ],
   "source": [
    "# Ok, what are those numbers? \n",
    "# phi to the -1, phi to the 0, phi  to the 1...\n",
    "# basically we are multiplying each number by phi but with a recursive function. Amazing\n",
    "errList = []\n",
    "for i in range(len(fibList)-1):\n",
    "    aprox = fibList[i+1]/fibList[i]\n",
    "    err = phi - aprox\n",
    "    errList.append(err)\n",
    "plt.plot(errList)\n",
    "plt.ylabel('Error')\n",
    "plt.show()"
   ]
  },
  {
   "cell_type": "code",
   "execution_count": 27,
   "metadata": {
    "collapsed": true
   },
   "outputs": [],
   "source": [
    "# You can ignore those errors as they are in a scale so small that python cannot be precise"
   ]
  },
  {
   "cell_type": "code",
   "execution_count": null,
   "metadata": {
    "collapsed": true
   },
   "outputs": [],
   "source": []
  }
 ],
 "metadata": {
  "kernelspec": {
   "display_name": "Python 2",
   "language": "python",
   "name": "python2"
  },
  "language_info": {
   "codemirror_mode": {
    "name": "ipython",
    "version": 2
   },
   "file_extension": ".py",
   "mimetype": "text/x-python",
   "name": "python",
   "nbconvert_exporter": "python",
   "pygments_lexer": "ipython2",
   "version": "2.7.13"
  }
 },
 "nbformat": 4,
 "nbformat_minor": 2
}
